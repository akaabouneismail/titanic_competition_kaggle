{
 "cells": [
  {
   "cell_type": "code",
   "execution_count": 1,
   "id": "931b4fea",
   "metadata": {
    "_cell_guid": "b1076dfc-b9ad-4769-8c92-a6c4dae69d19",
    "_uuid": "8f2839f25d086af736a60e9eeb907d3b93b6e0e5",
    "execution": {
     "iopub.execute_input": "2021-12-08T20:55:30.852073Z",
     "iopub.status.busy": "2021-12-08T20:55:30.850237Z",
     "iopub.status.idle": "2021-12-08T20:55:30.867585Z",
     "shell.execute_reply": "2021-12-08T20:55:30.868131Z",
     "shell.execute_reply.started": "2021-12-08T18:18:23.963390Z"
    },
    "papermill": {
     "duration": 0.049355,
     "end_time": "2021-12-08T20:55:30.868480",
     "exception": false,
     "start_time": "2021-12-08T20:55:30.819125",
     "status": "completed"
    },
    "tags": []
   },
   "outputs": [
    {
     "name": "stdout",
     "output_type": "stream",
     "text": [
      "/kaggle/input/titanic/train.csv\n",
      "/kaggle/input/titanic/test.csv\n",
      "/kaggle/input/titanic/gender_submission.csv\n"
     ]
    }
   ],
   "source": [
    "# This Python 3 environment comes with many helpful analytics libraries installed\n",
    "# It is defined by the kaggle/python Docker image: https://github.com/kaggle/docker-python\n",
    "# For example, here's several helpful packages to load\n",
    "\n",
    "import numpy as np # linear algebra\n",
    "import pandas as pd # data processing, CSV file I/O (e.g. pd.read_csv)\n",
    "\n",
    "# Input data files are available in the read-only \"../input/\" directory\n",
    "# For example, running this (by clicking run or pressing Shift+Enter) will list all files under the input directory\n",
    "\n",
    "import os\n",
    "for dirname, _, filenames in os.walk('/kaggle/input'):\n",
    "    for filename in filenames:\n",
    "        print(os.path.join(dirname, filename))\n",
    "\n",
    "# You can write up to 20GB to the current directory (/kaggle/working/) that gets preserved as output when you create a version using \"Save & Run All\" \n",
    "# You can also write temporary files to /kaggle/temp/, but they won't be saved outside of the current session"
   ]
  },
  {
   "cell_type": "markdown",
   "id": "e5df4ada",
   "metadata": {
    "papermill": {
     "duration": 0.024188,
     "end_time": "2021-12-08T20:55:30.918184",
     "exception": false,
     "start_time": "2021-12-08T20:55:30.893996",
     "status": "completed"
    },
    "tags": []
   },
   "source": [
    "# **Data Analysis**"
   ]
  },
  {
   "cell_type": "code",
   "execution_count": 2,
   "id": "10e84d09",
   "metadata": {
    "execution": {
     "iopub.execute_input": "2021-12-08T20:55:30.971407Z",
     "iopub.status.busy": "2021-12-08T20:55:30.970354Z",
     "iopub.status.idle": "2021-12-08T20:55:31.027253Z",
     "shell.execute_reply": "2021-12-08T20:55:31.027873Z",
     "shell.execute_reply.started": "2021-12-08T18:18:23.992760Z"
    },
    "papermill": {
     "duration": 0.085461,
     "end_time": "2021-12-08T20:55:31.028091",
     "exception": false,
     "start_time": "2021-12-08T20:55:30.942630",
     "status": "completed"
    },
    "tags": []
   },
   "outputs": [
    {
     "data": {
      "text/html": [
       "<div>\n",
       "<style scoped>\n",
       "    .dataframe tbody tr th:only-of-type {\n",
       "        vertical-align: middle;\n",
       "    }\n",
       "\n",
       "    .dataframe tbody tr th {\n",
       "        vertical-align: top;\n",
       "    }\n",
       "\n",
       "    .dataframe thead th {\n",
       "        text-align: right;\n",
       "    }\n",
       "</style>\n",
       "<table border=\"1\" class=\"dataframe\">\n",
       "  <thead>\n",
       "    <tr style=\"text-align: right;\">\n",
       "      <th></th>\n",
       "      <th>PassengerId</th>\n",
       "      <th>Survived</th>\n",
       "      <th>Pclass</th>\n",
       "      <th>Name</th>\n",
       "      <th>Sex</th>\n",
       "      <th>Age</th>\n",
       "      <th>SibSp</th>\n",
       "      <th>Parch</th>\n",
       "      <th>Ticket</th>\n",
       "      <th>Fare</th>\n",
       "      <th>Cabin</th>\n",
       "      <th>Embarked</th>\n",
       "    </tr>\n",
       "  </thead>\n",
       "  <tbody>\n",
       "    <tr>\n",
       "      <th>0</th>\n",
       "      <td>1</td>\n",
       "      <td>0</td>\n",
       "      <td>3</td>\n",
       "      <td>Braund, Mr. Owen Harris</td>\n",
       "      <td>male</td>\n",
       "      <td>22.0</td>\n",
       "      <td>1</td>\n",
       "      <td>0</td>\n",
       "      <td>A/5 21171</td>\n",
       "      <td>7.2500</td>\n",
       "      <td>NaN</td>\n",
       "      <td>S</td>\n",
       "    </tr>\n",
       "    <tr>\n",
       "      <th>1</th>\n",
       "      <td>2</td>\n",
       "      <td>1</td>\n",
       "      <td>1</td>\n",
       "      <td>Cumings, Mrs. John Bradley (Florence Briggs Th...</td>\n",
       "      <td>female</td>\n",
       "      <td>38.0</td>\n",
       "      <td>1</td>\n",
       "      <td>0</td>\n",
       "      <td>PC 17599</td>\n",
       "      <td>71.2833</td>\n",
       "      <td>C85</td>\n",
       "      <td>C</td>\n",
       "    </tr>\n",
       "    <tr>\n",
       "      <th>2</th>\n",
       "      <td>3</td>\n",
       "      <td>1</td>\n",
       "      <td>3</td>\n",
       "      <td>Heikkinen, Miss. Laina</td>\n",
       "      <td>female</td>\n",
       "      <td>26.0</td>\n",
       "      <td>0</td>\n",
       "      <td>0</td>\n",
       "      <td>STON/O2. 3101282</td>\n",
       "      <td>7.9250</td>\n",
       "      <td>NaN</td>\n",
       "      <td>S</td>\n",
       "    </tr>\n",
       "    <tr>\n",
       "      <th>3</th>\n",
       "      <td>4</td>\n",
       "      <td>1</td>\n",
       "      <td>1</td>\n",
       "      <td>Futrelle, Mrs. Jacques Heath (Lily May Peel)</td>\n",
       "      <td>female</td>\n",
       "      <td>35.0</td>\n",
       "      <td>1</td>\n",
       "      <td>0</td>\n",
       "      <td>113803</td>\n",
       "      <td>53.1000</td>\n",
       "      <td>C123</td>\n",
       "      <td>S</td>\n",
       "    </tr>\n",
       "    <tr>\n",
       "      <th>4</th>\n",
       "      <td>5</td>\n",
       "      <td>0</td>\n",
       "      <td>3</td>\n",
       "      <td>Allen, Mr. William Henry</td>\n",
       "      <td>male</td>\n",
       "      <td>35.0</td>\n",
       "      <td>0</td>\n",
       "      <td>0</td>\n",
       "      <td>373450</td>\n",
       "      <td>8.0500</td>\n",
       "      <td>NaN</td>\n",
       "      <td>S</td>\n",
       "    </tr>\n",
       "  </tbody>\n",
       "</table>\n",
       "</div>"
      ],
      "text/plain": [
       "   PassengerId  Survived  Pclass  \\\n",
       "0            1         0       3   \n",
       "1            2         1       1   \n",
       "2            3         1       3   \n",
       "3            4         1       1   \n",
       "4            5         0       3   \n",
       "\n",
       "                                                Name     Sex   Age  SibSp  \\\n",
       "0                            Braund, Mr. Owen Harris    male  22.0      1   \n",
       "1  Cumings, Mrs. John Bradley (Florence Briggs Th...  female  38.0      1   \n",
       "2                             Heikkinen, Miss. Laina  female  26.0      0   \n",
       "3       Futrelle, Mrs. Jacques Heath (Lily May Peel)  female  35.0      1   \n",
       "4                           Allen, Mr. William Henry    male  35.0      0   \n",
       "\n",
       "   Parch            Ticket     Fare Cabin Embarked  \n",
       "0      0         A/5 21171   7.2500   NaN        S  \n",
       "1      0          PC 17599  71.2833   C85        C  \n",
       "2      0  STON/O2. 3101282   7.9250   NaN        S  \n",
       "3      0            113803  53.1000  C123        S  \n",
       "4      0            373450   8.0500   NaN        S  "
      ]
     },
     "execution_count": 2,
     "metadata": {},
     "output_type": "execute_result"
    }
   ],
   "source": [
    "training_data = pd.read_csv(\"/kaggle/input/titanic/train.csv\")\n",
    "testing_data = pd.read_csv(\"/kaggle/input/titanic/test.csv\")\n",
    "training_data.head()"
   ]
  },
  {
   "cell_type": "code",
   "execution_count": 3,
   "id": "8dcc0994",
   "metadata": {
    "execution": {
     "iopub.execute_input": "2021-12-08T20:55:31.085906Z",
     "iopub.status.busy": "2021-12-08T20:55:31.084820Z",
     "iopub.status.idle": "2021-12-08T20:55:31.091152Z",
     "shell.execute_reply": "2021-12-08T20:55:31.091820Z",
     "shell.execute_reply.started": "2021-12-08T18:18:24.044735Z"
    },
    "papermill": {
     "duration": 0.038183,
     "end_time": "2021-12-08T20:55:31.092016",
     "exception": false,
     "start_time": "2021-12-08T20:55:31.053833",
     "status": "completed"
    },
    "tags": []
   },
   "outputs": [
    {
     "data": {
      "text/plain": [
       "Index(['PassengerId', 'Survived', 'Pclass', 'Name', 'Sex', 'Age', 'SibSp',\n",
       "       'Parch', 'Ticket', 'Fare', 'Cabin', 'Embarked'],\n",
       "      dtype='object')"
      ]
     },
     "execution_count": 3,
     "metadata": {},
     "output_type": "execute_result"
    }
   ],
   "source": [
    "#displaying the names of the columns in the training data\n",
    "training_data.keys()"
   ]
  },
  {
   "cell_type": "code",
   "execution_count": 4,
   "id": "2e7eb3dc",
   "metadata": {
    "execution": {
     "iopub.execute_input": "2021-12-08T20:55:31.166308Z",
     "iopub.status.busy": "2021-12-08T20:55:31.165463Z",
     "iopub.status.idle": "2021-12-08T20:55:31.170368Z",
     "shell.execute_reply": "2021-12-08T20:55:31.169377Z",
     "shell.execute_reply.started": "2021-12-08T18:18:24.054687Z"
    },
    "papermill": {
     "duration": 0.04512,
     "end_time": "2021-12-08T20:55:31.170608",
     "exception": false,
     "start_time": "2021-12-08T20:55:31.125488",
     "status": "completed"
    },
    "tags": []
   },
   "outputs": [
    {
     "name": "stdout",
     "output_type": "stream",
     "text": [
      "(891, 12)\n"
     ]
    }
   ],
   "source": [
    "# displaying how many rows and columns are in the training data\n",
    "print(training_data.shape)"
   ]
  },
  {
   "cell_type": "code",
   "execution_count": 5,
   "id": "0436326f",
   "metadata": {
    "execution": {
     "iopub.execute_input": "2021-12-08T20:55:31.227009Z",
     "iopub.status.busy": "2021-12-08T20:55:31.226317Z",
     "iopub.status.idle": "2021-12-08T20:55:31.250508Z",
     "shell.execute_reply": "2021-12-08T20:55:31.251036Z",
     "shell.execute_reply.started": "2021-12-08T18:18:24.065119Z"
    },
    "papermill": {
     "duration": 0.053849,
     "end_time": "2021-12-08T20:55:31.251225",
     "exception": false,
     "start_time": "2021-12-08T20:55:31.197376",
     "status": "completed"
    },
    "tags": []
   },
   "outputs": [
    {
     "name": "stdout",
     "output_type": "stream",
     "text": [
      "<class 'pandas.core.frame.DataFrame'>\n",
      "RangeIndex: 891 entries, 0 to 890\n",
      "Data columns (total 12 columns):\n",
      " #   Column       Non-Null Count  Dtype  \n",
      "---  ------       --------------  -----  \n",
      " 0   PassengerId  891 non-null    int64  \n",
      " 1   Survived     891 non-null    int64  \n",
      " 2   Pclass       891 non-null    int64  \n",
      " 3   Name         891 non-null    object \n",
      " 4   Sex          891 non-null    object \n",
      " 5   Age          714 non-null    float64\n",
      " 6   SibSp        891 non-null    int64  \n",
      " 7   Parch        891 non-null    int64  \n",
      " 8   Ticket       891 non-null    object \n",
      " 9   Fare         891 non-null    float64\n",
      " 10  Cabin        204 non-null    object \n",
      " 11  Embarked     889 non-null    object \n",
      "dtypes: float64(2), int64(5), object(5)\n",
      "memory usage: 83.7+ KB\n"
     ]
    }
   ],
   "source": [
    "#displaying some general data about the columns in the training data\n",
    "training_data.info()\n"
   ]
  },
  {
   "cell_type": "code",
   "execution_count": 6,
   "id": "14b0c34e",
   "metadata": {
    "execution": {
     "iopub.execute_input": "2021-12-08T20:55:31.308080Z",
     "iopub.status.busy": "2021-12-08T20:55:31.307360Z",
     "iopub.status.idle": "2021-12-08T20:55:31.343288Z",
     "shell.execute_reply": "2021-12-08T20:55:31.343834Z",
     "shell.execute_reply.started": "2021-12-08T18:18:24.095211Z"
    },
    "papermill": {
     "duration": 0.066353,
     "end_time": "2021-12-08T20:55:31.344054",
     "exception": false,
     "start_time": "2021-12-08T20:55:31.277701",
     "status": "completed"
    },
    "tags": []
   },
   "outputs": [
    {
     "data": {
      "text/html": [
       "<div>\n",
       "<style scoped>\n",
       "    .dataframe tbody tr th:only-of-type {\n",
       "        vertical-align: middle;\n",
       "    }\n",
       "\n",
       "    .dataframe tbody tr th {\n",
       "        vertical-align: top;\n",
       "    }\n",
       "\n",
       "    .dataframe thead th {\n",
       "        text-align: right;\n",
       "    }\n",
       "</style>\n",
       "<table border=\"1\" class=\"dataframe\">\n",
       "  <thead>\n",
       "    <tr style=\"text-align: right;\">\n",
       "      <th></th>\n",
       "      <th>PassengerId</th>\n",
       "      <th>Survived</th>\n",
       "      <th>Pclass</th>\n",
       "      <th>Age</th>\n",
       "      <th>SibSp</th>\n",
       "      <th>Parch</th>\n",
       "      <th>Fare</th>\n",
       "    </tr>\n",
       "  </thead>\n",
       "  <tbody>\n",
       "    <tr>\n",
       "      <th>count</th>\n",
       "      <td>891.000000</td>\n",
       "      <td>891.000000</td>\n",
       "      <td>891.000000</td>\n",
       "      <td>714.000000</td>\n",
       "      <td>891.000000</td>\n",
       "      <td>891.000000</td>\n",
       "      <td>891.000000</td>\n",
       "    </tr>\n",
       "    <tr>\n",
       "      <th>mean</th>\n",
       "      <td>446.000000</td>\n",
       "      <td>0.383838</td>\n",
       "      <td>2.308642</td>\n",
       "      <td>29.699118</td>\n",
       "      <td>0.523008</td>\n",
       "      <td>0.381594</td>\n",
       "      <td>32.204208</td>\n",
       "    </tr>\n",
       "    <tr>\n",
       "      <th>std</th>\n",
       "      <td>257.353842</td>\n",
       "      <td>0.486592</td>\n",
       "      <td>0.836071</td>\n",
       "      <td>14.526497</td>\n",
       "      <td>1.102743</td>\n",
       "      <td>0.806057</td>\n",
       "      <td>49.693429</td>\n",
       "    </tr>\n",
       "    <tr>\n",
       "      <th>min</th>\n",
       "      <td>1.000000</td>\n",
       "      <td>0.000000</td>\n",
       "      <td>1.000000</td>\n",
       "      <td>0.420000</td>\n",
       "      <td>0.000000</td>\n",
       "      <td>0.000000</td>\n",
       "      <td>0.000000</td>\n",
       "    </tr>\n",
       "    <tr>\n",
       "      <th>25%</th>\n",
       "      <td>223.500000</td>\n",
       "      <td>0.000000</td>\n",
       "      <td>2.000000</td>\n",
       "      <td>20.125000</td>\n",
       "      <td>0.000000</td>\n",
       "      <td>0.000000</td>\n",
       "      <td>7.910400</td>\n",
       "    </tr>\n",
       "    <tr>\n",
       "      <th>50%</th>\n",
       "      <td>446.000000</td>\n",
       "      <td>0.000000</td>\n",
       "      <td>3.000000</td>\n",
       "      <td>28.000000</td>\n",
       "      <td>0.000000</td>\n",
       "      <td>0.000000</td>\n",
       "      <td>14.454200</td>\n",
       "    </tr>\n",
       "    <tr>\n",
       "      <th>75%</th>\n",
       "      <td>668.500000</td>\n",
       "      <td>1.000000</td>\n",
       "      <td>3.000000</td>\n",
       "      <td>38.000000</td>\n",
       "      <td>1.000000</td>\n",
       "      <td>0.000000</td>\n",
       "      <td>31.000000</td>\n",
       "    </tr>\n",
       "    <tr>\n",
       "      <th>max</th>\n",
       "      <td>891.000000</td>\n",
       "      <td>1.000000</td>\n",
       "      <td>3.000000</td>\n",
       "      <td>80.000000</td>\n",
       "      <td>8.000000</td>\n",
       "      <td>6.000000</td>\n",
       "      <td>512.329200</td>\n",
       "    </tr>\n",
       "  </tbody>\n",
       "</table>\n",
       "</div>"
      ],
      "text/plain": [
       "       PassengerId    Survived      Pclass         Age       SibSp  \\\n",
       "count   891.000000  891.000000  891.000000  714.000000  891.000000   \n",
       "mean    446.000000    0.383838    2.308642   29.699118    0.523008   \n",
       "std     257.353842    0.486592    0.836071   14.526497    1.102743   \n",
       "min       1.000000    0.000000    1.000000    0.420000    0.000000   \n",
       "25%     223.500000    0.000000    2.000000   20.125000    0.000000   \n",
       "50%     446.000000    0.000000    3.000000   28.000000    0.000000   \n",
       "75%     668.500000    1.000000    3.000000   38.000000    1.000000   \n",
       "max     891.000000    1.000000    3.000000   80.000000    8.000000   \n",
       "\n",
       "            Parch        Fare  \n",
       "count  891.000000  891.000000  \n",
       "mean     0.381594   32.204208  \n",
       "std      0.806057   49.693429  \n",
       "min      0.000000    0.000000  \n",
       "25%      0.000000    7.910400  \n",
       "50%      0.000000   14.454200  \n",
       "75%      0.000000   31.000000  \n",
       "max      6.000000  512.329200  "
      ]
     },
     "execution_count": 6,
     "metadata": {},
     "output_type": "execute_result"
    }
   ],
   "source": [
    "#displaying some general information about the training data\n",
    "# for example now we know that the youngest passenger was 0.42 years old and the oldest was 80 years old\n",
    "training_data.describe()"
   ]
  },
  {
   "cell_type": "code",
   "execution_count": 7,
   "id": "47d68b88",
   "metadata": {
    "execution": {
     "iopub.execute_input": "2021-12-08T20:55:31.407660Z",
     "iopub.status.busy": "2021-12-08T20:55:31.406688Z",
     "iopub.status.idle": "2021-12-08T20:55:31.410218Z",
     "shell.execute_reply": "2021-12-08T20:55:31.410738Z",
     "shell.execute_reply.started": "2021-12-08T18:18:24.133179Z"
    },
    "papermill": {
     "duration": 0.039341,
     "end_time": "2021-12-08T20:55:31.410938",
     "exception": false,
     "start_time": "2021-12-08T20:55:31.371597",
     "status": "completed"
    },
    "tags": []
   },
   "outputs": [
    {
     "data": {
      "text/plain": [
       "int64      5\n",
       "object     5\n",
       "float64    2\n",
       "dtype: int64"
      ]
     },
     "execution_count": 7,
     "metadata": {},
     "output_type": "execute_result"
    }
   ],
   "source": [
    "#checking the data types in the training data\n",
    "training_data.dtypes.value_counts()"
   ]
  },
  {
   "cell_type": "code",
   "execution_count": 8,
   "id": "4a38e4e2",
   "metadata": {
    "execution": {
     "iopub.execute_input": "2021-12-08T20:55:31.470038Z",
     "iopub.status.busy": "2021-12-08T20:55:31.468955Z",
     "iopub.status.idle": "2021-12-08T20:55:31.478928Z",
     "shell.execute_reply": "2021-12-08T20:55:31.479507Z",
     "shell.execute_reply.started": "2021-12-08T18:18:24.142302Z"
    },
    "papermill": {
     "duration": 0.041451,
     "end_time": "2021-12-08T20:55:31.479739",
     "exception": false,
     "start_time": "2021-12-08T20:55:31.438288",
     "status": "completed"
    },
    "tags": []
   },
   "outputs": [
    {
     "data": {
      "text/plain": [
       "PassengerId      0\n",
       "Survived         0\n",
       "Pclass           0\n",
       "Name             0\n",
       "Sex              0\n",
       "Age            177\n",
       "SibSp            0\n",
       "Parch            0\n",
       "Ticket           0\n",
       "Fare             0\n",
       "Cabin          687\n",
       "Embarked         2\n",
       "dtype: int64"
      ]
     },
     "execution_count": 8,
     "metadata": {},
     "output_type": "execute_result"
    }
   ],
   "source": [
    "#check how many null values are in the training data \n",
    "training_data.isnull().sum()"
   ]
  },
  {
   "cell_type": "code",
   "execution_count": 9,
   "id": "28a3a4e5",
   "metadata": {
    "execution": {
     "iopub.execute_input": "2021-12-08T20:55:31.539726Z",
     "iopub.status.busy": "2021-12-08T20:55:31.539009Z",
     "iopub.status.idle": "2021-12-08T20:55:32.675588Z",
     "shell.execute_reply": "2021-12-08T20:55:32.676168Z",
     "shell.execute_reply.started": "2021-12-08T18:18:24.154927Z"
    },
    "papermill": {
     "duration": 1.168316,
     "end_time": "2021-12-08T20:55:32.676373",
     "exception": false,
     "start_time": "2021-12-08T20:55:31.508057",
     "status": "completed"
    },
    "tags": []
   },
   "outputs": [],
   "source": [
    "import seaborn as sns"
   ]
  },
  {
   "cell_type": "code",
   "execution_count": 10,
   "id": "3a912893",
   "metadata": {
    "execution": {
     "iopub.execute_input": "2021-12-08T20:55:32.734700Z",
     "iopub.status.busy": "2021-12-08T20:55:32.734026Z",
     "iopub.status.idle": "2021-12-08T20:55:32.740942Z",
     "shell.execute_reply": "2021-12-08T20:55:32.741472Z",
     "shell.execute_reply.started": "2021-12-08T18:18:25.166500Z"
    },
    "papermill": {
     "duration": 0.037868,
     "end_time": "2021-12-08T20:55:32.741686",
     "exception": false,
     "start_time": "2021-12-08T20:55:32.703818",
     "status": "completed"
    },
    "tags": []
   },
   "outputs": [
    {
     "data": {
      "text/plain": [
       "0    549\n",
       "1    342\n",
       "Name: Survived, dtype: int64"
      ]
     },
     "execution_count": 10,
     "metadata": {},
     "output_type": "execute_result"
    }
   ],
   "source": [
    "training_data['Survived'].value_counts()"
   ]
  },
  {
   "cell_type": "markdown",
   "id": "e6592e5d",
   "metadata": {
    "papermill": {
     "duration": 0.027919,
     "end_time": "2021-12-08T20:55:32.797695",
     "exception": false,
     "start_time": "2021-12-08T20:55:32.769776",
     "status": "completed"
    },
    "tags": []
   },
   "source": [
    "# **Data Visualisation**"
   ]
  },
  {
   "cell_type": "code",
   "execution_count": 11,
   "id": "61cd50f4",
   "metadata": {
    "execution": {
     "iopub.execute_input": "2021-12-08T20:55:32.857722Z",
     "iopub.status.busy": "2021-12-08T20:55:32.856181Z",
     "iopub.status.idle": "2021-12-08T20:55:33.058348Z",
     "shell.execute_reply": "2021-12-08T20:55:33.057843Z",
     "shell.execute_reply.started": "2021-12-08T18:18:25.174768Z"
    },
    "papermill": {
     "duration": 0.232249,
     "end_time": "2021-12-08T20:55:33.058495",
     "exception": false,
     "start_time": "2021-12-08T20:55:32.826246",
     "status": "completed"
    },
    "tags": []
   },
   "outputs": [
    {
     "name": "stderr",
     "output_type": "stream",
     "text": [
      "/opt/conda/lib/python3.7/site-packages/seaborn/_decorators.py:43: FutureWarning: Pass the following variable as a keyword arg: x. From version 0.12, the only valid positional argument will be `data`, and passing other arguments without an explicit keyword will result in an error or misinterpretation.\n",
      "  FutureWarning\n"
     ]
    },
    {
     "data": {
      "text/plain": [
       "<AxesSubplot:xlabel='Survived', ylabel='count'>"
      ]
     },
     "execution_count": 11,
     "metadata": {},
     "output_type": "execute_result"
    },
    {
     "data": {
      "image/png": "[encoded data removed]",
      "text/plain": [
       "<Figure size 432x288 with 1 Axes>"
      ]
     },
     "metadata": {
      "needs_background": "light"
     },
     "output_type": "display_data"
    }
   ],
   "source": [
    "sns.countplot(training_data['Survived'])"
   ]
  },
  {
   "cell_type": "code",
   "execution_count": 12,
   "id": "c50d82c3",
   "metadata": {
    "execution": {
     "iopub.execute_input": "2021-12-08T20:55:33.122569Z",
     "iopub.status.busy": "2021-12-08T20:55:33.121931Z",
     "iopub.status.idle": "2021-12-08T20:55:33.125932Z",
     "shell.execute_reply": "2021-12-08T20:55:33.126351Z",
     "shell.execute_reply.started": "2021-12-08T18:18:25.380980Z"
    },
    "papermill": {
     "duration": 0.038278,
     "end_time": "2021-12-08T20:55:33.126556",
     "exception": false,
     "start_time": "2021-12-08T20:55:33.088278",
     "status": "completed"
    },
    "tags": []
   },
   "outputs": [
    {
     "name": "stdout",
     "output_type": "stream",
     "text": [
      "0.7420382165605095\n"
     ]
    }
   ],
   "source": [
    "#checking the percentage of women who survived\n",
    "\n",
    "females = training_data.loc[training_data.Sex == 'female']['Survived']\n",
    "percentage = sum(females)/len(females)\n",
    "print(percentage)"
   ]
  },
  {
   "cell_type": "code",
   "execution_count": 13,
   "id": "5f4c9749",
   "metadata": {
    "execution": {
     "iopub.execute_input": "2021-12-08T20:55:33.191962Z",
     "iopub.status.busy": "2021-12-08T20:55:33.191307Z",
     "iopub.status.idle": "2021-12-08T20:55:33.193843Z",
     "shell.execute_reply": "2021-12-08T20:55:33.194422Z",
     "shell.execute_reply.started": "2021-12-08T18:18:25.390648Z"
    },
    "papermill": {
     "duration": 0.039442,
     "end_time": "2021-12-08T20:55:33.194608",
     "exception": false,
     "start_time": "2021-12-08T20:55:33.155166",
     "status": "completed"
    },
    "tags": []
   },
   "outputs": [
    {
     "name": "stdout",
     "output_type": "stream",
     "text": [
      "0.18890814558058924\n"
     ]
    }
   ],
   "source": [
    "#checking the percentage of men who survived\n",
    "\n",
    "males = training_data.loc[training_data.Sex == 'male']['Survived']\n",
    "percentage = sum(males)/len(males)\n",
    "print(percentage)"
   ]
  },
  {
   "cell_type": "code",
   "execution_count": 14,
   "id": "8fdf4149",
   "metadata": {
    "execution": {
     "iopub.execute_input": "2021-12-08T20:55:33.256045Z",
     "iopub.status.busy": "2021-12-08T20:55:33.255428Z",
     "iopub.status.idle": "2021-12-08T20:55:33.549467Z",
     "shell.execute_reply": "2021-12-08T20:55:33.550023Z",
     "shell.execute_reply.started": "2021-12-08T18:18:25.405751Z"
    },
    "papermill": {
     "duration": 0.326107,
     "end_time": "2021-12-08T20:55:33.550195",
     "exception": false,
     "start_time": "2021-12-08T20:55:33.224088",
     "status": "completed"
    },
    "tags": []
   },
   "outputs": [
    {
     "data": {
      "text/plain": [
       "<AxesSubplot:xlabel='Pclass', ylabel='Survived'>"
      ]
     },
     "execution_count": 14,
     "metadata": {},
     "output_type": "execute_result"
    },
    {
     "data": {
      "image/png": "[encoded data removed]",
      "text/plain": [
       "<Figure size 432x288 with 1 Axes>"
      ]
     },
     "metadata": {
      "needs_background": "light"
     },
     "output_type": "display_data"
    }
   ],
   "source": [
    "#checking the influence of the ticket class on the chances of surviving\n",
    "sns.barplot(x='Pclass',y='Survived',data=training_data)"
   ]
  },
  {
   "cell_type": "code",
   "execution_count": 15,
   "id": "cc3d8c89",
   "metadata": {
    "execution": {
     "iopub.execute_input": "2021-12-08T20:55:33.618475Z",
     "iopub.status.busy": "2021-12-08T20:55:33.617837Z",
     "iopub.status.idle": "2021-12-08T20:55:34.177559Z",
     "shell.execute_reply": "2021-12-08T20:55:34.178100Z",
     "shell.execute_reply.started": "2021-12-08T18:18:25.674783Z"
    },
    "papermill": {
     "duration": 0.597443,
     "end_time": "2021-12-08T20:55:34.178269",
     "exception": false,
     "start_time": "2021-12-08T20:55:33.580826",
     "status": "completed"
    },
    "tags": []
   },
   "outputs": [
    {
     "name": "stderr",
     "output_type": "stream",
     "text": [
      "/opt/conda/lib/python3.7/site-packages/seaborn/categorical.py:3717: UserWarning: The `factorplot` function has been renamed to `catplot`. The original name will be removed in a future release. Please update your code. Note that the default `kind` in `factorplot` (`'point'`) has changed `'strip'` in `catplot`.\n",
      "  warnings.warn(msg)\n",
      "/opt/conda/lib/python3.7/site-packages/seaborn/_decorators.py:43: FutureWarning: Pass the following variables as keyword args: x, y. From version 0.12, the only valid positional argument will be `data`, and passing other arguments without an explicit keyword will result in an error or misinterpretation.\n",
      "  FutureWarning\n"
     ]
    },
    {
     "data": {
      "image/png": "[encoded data removed]",
      "text/plain": [
       "<Figure size 900x360 with 1 Axes>"
      ]
     },
     "metadata": {
      "needs_background": "light"
     },
     "output_type": "display_data"
    }
   ],
   "source": [
    "#now checking how the number of relatives had an impact on chances of surviving\n",
    "axes = sns.factorplot('SibSp','Survived', data = training_data, aspect = 2.5)"
   ]
  },
  {
   "cell_type": "markdown",
   "id": "711dd09c",
   "metadata": {
    "papermill": {
     "duration": 0.031422,
     "end_time": "2021-12-08T20:55:34.243032",
     "exception": false,
     "start_time": "2021-12-08T20:55:34.211610",
     "status": "completed"
    },
    "tags": []
   },
   "source": [
    "# **Preprocessing**"
   ]
  },
  {
   "cell_type": "code",
   "execution_count": 16,
   "id": "90058ec5",
   "metadata": {
    "execution": {
     "iopub.execute_input": "2021-12-08T20:55:34.310092Z",
     "iopub.status.busy": "2021-12-08T20:55:34.309114Z",
     "iopub.status.idle": "2021-12-08T20:55:34.316779Z",
     "shell.execute_reply": "2021-12-08T20:55:34.317354Z",
     "shell.execute_reply.started": "2021-12-08T18:18:26.183480Z"
    },
    "papermill": {
     "duration": 0.042955,
     "end_time": "2021-12-08T20:55:34.317512",
     "exception": false,
     "start_time": "2021-12-08T20:55:34.274557",
     "status": "completed"
    },
    "tags": []
   },
   "outputs": [
    {
     "data": {
      "text/plain": [
       "count     889\n",
       "unique      3\n",
       "top         S\n",
       "freq      644\n",
       "Name: Embarked, dtype: object"
      ]
     },
     "execution_count": 16,
     "metadata": {},
     "output_type": "execute_result"
    }
   ],
   "source": [
    "#It was noticed that the \"Embarked\" column only had 2 missing values, that can easily be fixed by replacing\n",
    "#with the most common values in that same column\n",
    "training_data['Embarked'].describe()"
   ]
  },
  {
   "cell_type": "markdown",
   "id": "7d47ba0e",
   "metadata": {
    "papermill": {
     "duration": 0.031612,
     "end_time": "2021-12-08T20:55:34.380640",
     "exception": false,
     "start_time": "2021-12-08T20:55:34.349028",
     "status": "completed"
    },
    "tags": []
   },
   "source": []
  },
  {
   "cell_type": "code",
   "execution_count": 17,
   "id": "46950972",
   "metadata": {
    "execution": {
     "iopub.execute_input": "2021-12-08T20:55:34.448014Z",
     "iopub.status.busy": "2021-12-08T20:55:34.446990Z",
     "iopub.status.idle": "2021-12-08T20:55:34.452758Z",
     "shell.execute_reply": "2021-12-08T20:55:34.453364Z",
     "shell.execute_reply.started": "2021-12-08T18:18:26.194953Z"
    },
    "papermill": {
     "duration": 0.041058,
     "end_time": "2021-12-08T20:55:34.453546",
     "exception": false,
     "start_time": "2021-12-08T20:55:34.412488",
     "status": "completed"
    },
    "tags": []
   },
   "outputs": [],
   "source": [
    "common = 'S'\n",
    "data = [training_data, testing_data]\n",
    "\n",
    "for dataset in data:\n",
    "    dataset['Embarked'] = dataset['Embarked'].fillna(common)"
   ]
  },
  {
   "cell_type": "code",
   "execution_count": 18,
   "id": "d2109f9b",
   "metadata": {
    "execution": {
     "iopub.execute_input": "2021-12-08T20:55:34.521395Z",
     "iopub.status.busy": "2021-12-08T20:55:34.520444Z",
     "iopub.status.idle": "2021-12-08T20:55:34.528723Z",
     "shell.execute_reply": "2021-12-08T20:55:34.529293Z",
     "shell.execute_reply.started": "2021-12-08T18:18:26.207258Z"
    },
    "papermill": {
     "duration": 0.044276,
     "end_time": "2021-12-08T20:55:34.529470",
     "exception": false,
     "start_time": "2021-12-08T20:55:34.485194",
     "status": "completed"
    },
    "tags": []
   },
   "outputs": [
    {
     "data": {
      "text/plain": [
       "PassengerId      0\n",
       "Survived         0\n",
       "Pclass           0\n",
       "Name             0\n",
       "Sex              0\n",
       "Age            177\n",
       "SibSp            0\n",
       "Parch            0\n",
       "Ticket           0\n",
       "Fare             0\n",
       "Cabin          687\n",
       "Embarked         0\n",
       "dtype: int64"
      ]
     },
     "execution_count": 18,
     "metadata": {},
     "output_type": "execute_result"
    }
   ],
   "source": [
    "\n",
    "training_data.isnull().sum()"
   ]
  },
  {
   "cell_type": "code",
   "execution_count": 19,
   "id": "a931d3c2",
   "metadata": {
    "execution": {
     "iopub.execute_input": "2021-12-08T20:55:34.597248Z",
     "iopub.status.busy": "2021-12-08T20:55:34.596295Z",
     "iopub.status.idle": "2021-12-08T20:55:34.610366Z",
     "shell.execute_reply": "2021-12-08T20:55:34.610939Z",
     "shell.execute_reply.started": "2021-12-08T18:18:26.223967Z"
    },
    "papermill": {
     "duration": 0.049741,
     "end_time": "2021-12-08T20:55:34.611104",
     "exception": false,
     "start_time": "2021-12-08T20:55:34.561363",
     "status": "completed"
    },
    "tags": []
   },
   "outputs": [],
   "source": [
    "#replacing strings by numerical values\n",
    "\n",
    "training_data.replace({'Sex':{'male':0,'female':1}}, inplace = True)\n",
    "testing_data.replace({'Sex':{'male':0,'female':1}}, inplace = True)\n",
    "\n",
    "training_data.replace({'Embarked':{'S':0,'C':1,'Q':2}}, inplace = True)\n",
    "testing_data.replace({'Embarked':{'S':0,'C':1,'Q':2}}, inplace = True)"
   ]
  },
  {
   "cell_type": "code",
   "execution_count": 20,
   "id": "057ee016",
   "metadata": {
    "execution": {
     "iopub.execute_input": "2021-12-08T20:55:34.680615Z",
     "iopub.status.busy": "2021-12-08T20:55:34.679950Z",
     "iopub.status.idle": "2021-12-08T20:55:34.686690Z",
     "shell.execute_reply": "2021-12-08T20:55:34.687165Z",
     "shell.execute_reply.started": "2021-12-08T18:18:26.238543Z"
    },
    "papermill": {
     "duration": 0.044301,
     "end_time": "2021-12-08T20:55:34.687329",
     "exception": false,
     "start_time": "2021-12-08T20:55:34.643028",
     "status": "completed"
    },
    "tags": []
   },
   "outputs": [
    {
     "data": {
      "text/plain": [
       "Survived    0\n",
       "Pclass      0\n",
       "Sex         0\n",
       "SibSp       0\n",
       "Parch       0\n",
       "Ticket      0\n",
       "Fare        0\n",
       "Embarked    0\n",
       "dtype: int64"
      ]
     },
     "execution_count": 20,
     "metadata": {},
     "output_type": "execute_result"
    }
   ],
   "source": [
    "#checking for null values\n",
    "\n",
    "training_data = training_data.drop([\"PassengerId\",\"Age\",\"Cabin\",\"Name\"],axis=1,errors=\"ignore\")\n",
    "training_data.isnull().sum()"
   ]
  },
  {
   "cell_type": "code",
   "execution_count": 21,
   "id": "eb99ddc0",
   "metadata": {
    "execution": {
     "iopub.execute_input": "2021-12-08T20:55:34.755611Z",
     "iopub.status.busy": "2021-12-08T20:55:34.754668Z",
     "iopub.status.idle": "2021-12-08T20:55:34.761540Z",
     "shell.execute_reply": "2021-12-08T20:55:34.762083Z",
     "shell.execute_reply.started": "2021-12-08T18:18:26.254044Z"
    },
    "papermill": {
     "duration": 0.04265,
     "end_time": "2021-12-08T20:55:34.762247",
     "exception": false,
     "start_time": "2021-12-08T20:55:34.719597",
     "status": "completed"
    },
    "tags": []
   },
   "outputs": [],
   "source": [
    "#defining the training and testing datasets\n",
    "\n",
    "\n",
    "X_train = training_data.drop([\"PassengerId\",\"Age\",\"Cabin\",\"Name\",\"Ticket\",\"Survived\",'Fare'],axis=1,errors=\"ignore\")\n",
    "Y_train = training_data[\"Survived\"]\n",
    "X_test = testing_data.drop([\"PassengerId\",\"Age\",\"Cabin\",\"Name\",\"Ticket\",'Fare'],axis=1,errors=\"ignore\").copy()"
   ]
  },
  {
   "cell_type": "code",
   "execution_count": 22,
   "id": "888ceace",
   "metadata": {
    "execution": {
     "iopub.execute_input": "2021-12-08T20:55:34.830388Z",
     "iopub.status.busy": "2021-12-08T20:55:34.829449Z",
     "iopub.status.idle": "2021-12-08T20:55:34.836545Z",
     "shell.execute_reply": "2021-12-08T20:55:34.837076Z",
     "shell.execute_reply.started": "2021-12-08T18:18:26.264422Z"
    },
    "papermill": {
     "duration": 0.042864,
     "end_time": "2021-12-08T20:55:34.837245",
     "exception": false,
     "start_time": "2021-12-08T20:55:34.794381",
     "status": "completed"
    },
    "tags": []
   },
   "outputs": [
    {
     "data": {
      "text/plain": [
       "Pclass      0\n",
       "Sex         0\n",
       "SibSp       0\n",
       "Parch       0\n",
       "Embarked    0\n",
       "dtype: int64"
      ]
     },
     "execution_count": 22,
     "metadata": {},
     "output_type": "execute_result"
    }
   ],
   "source": [
    "X_test.isnull().sum()"
   ]
  },
  {
   "cell_type": "markdown",
   "id": "ff988108",
   "metadata": {
    "papermill": {
     "duration": 0.032937,
     "end_time": "2021-12-08T20:55:34.903386",
     "exception": false,
     "start_time": "2021-12-08T20:55:34.870449",
     "status": "completed"
    },
    "tags": []
   },
   "source": [
    "# **Building the models**"
   ]
  },
  {
   "cell_type": "code",
   "execution_count": 23,
   "id": "66a1d263",
   "metadata": {
    "execution": {
     "iopub.execute_input": "2021-12-08T20:55:34.975076Z",
     "iopub.status.busy": "2021-12-08T20:55:34.974236Z",
     "iopub.status.idle": "2021-12-08T20:55:35.355288Z",
     "shell.execute_reply": "2021-12-08T20:55:35.354722Z",
     "shell.execute_reply.started": "2021-12-08T18:18:26.281328Z"
    },
    "papermill": {
     "duration": 0.418913,
     "end_time": "2021-12-08T20:55:35.355429",
     "exception": false,
     "start_time": "2021-12-08T20:55:34.936516",
     "status": "completed"
    },
    "tags": []
   },
   "outputs": [],
   "source": [
    "from sklearn.tree import DecisionTreeClassifier\n",
    "from sklearn.ensemble import RandomForestClassifier\n",
    "from sklearn.linear_model import LogisticRegression"
   ]
  },
  {
   "cell_type": "code",
   "execution_count": 24,
   "id": "7f2d2d50",
   "metadata": {
    "execution": {
     "iopub.execute_input": "2021-12-08T20:55:35.429861Z",
     "iopub.status.busy": "2021-12-08T20:55:35.428246Z",
     "iopub.status.idle": "2021-12-08T20:55:35.437877Z",
     "shell.execute_reply": "2021-12-08T20:55:35.437208Z",
     "shell.execute_reply.started": "2021-12-08T18:18:26.669228Z"
    },
    "papermill": {
     "duration": 0.049608,
     "end_time": "2021-12-08T20:55:35.438024",
     "exception": false,
     "start_time": "2021-12-08T20:55:35.388416",
     "status": "completed"
    },
    "tags": []
   },
   "outputs": [
    {
     "name": "stdout",
     "output_type": "stream",
     "text": [
      "83.73\n"
     ]
    }
   ],
   "source": [
    "#implementing decision tree and calculating the accuracy\n",
    "\n",
    "decisiont = DecisionTreeClassifier()\n",
    "decisiont.fit(X_train, Y_train)\n",
    "Y_prediction = decisiont.predict(X_test)\n",
    "accuracy = round(decisiont.score(X_train, Y_train)*100,2)\n",
    "print(accuracy)"
   ]
  },
  {
   "cell_type": "code",
   "execution_count": 25,
   "id": "0bea1220",
   "metadata": {
    "execution": {
     "iopub.execute_input": "2021-12-08T20:55:35.549848Z",
     "iopub.status.busy": "2021-12-08T20:55:35.513373Z",
     "iopub.status.idle": "2021-12-08T20:55:35.781811Z",
     "shell.execute_reply": "2021-12-08T20:55:35.782903Z",
     "shell.execute_reply.started": "2021-12-08T18:18:26.700214Z"
    },
    "papermill": {
     "duration": 0.311886,
     "end_time": "2021-12-08T20:55:35.783201",
     "exception": false,
     "start_time": "2021-12-08T20:55:35.471315",
     "status": "completed"
    },
    "tags": []
   },
   "outputs": [
    {
     "name": "stdout",
     "output_type": "stream",
     "text": [
      "accuracy:  83.73\n",
      "submission saved\n"
     ]
    }
   ],
   "source": [
    "#implementing random forest and calculating accuracy\n",
    "\n",
    "randomf = RandomForestClassifier(n_estimators = 100)\n",
    "randomf.fit(X_train, Y_train)\n",
    "\n",
    "Y_prediction = randomf.predict(X_test)\n",
    "\n",
    "randomf.score(X_train, Y_train)\n",
    "randomf_acc = round(randomf.score(X_train, Y_train)*100,2)\n",
    "print(\"accuracy: \",randomf_acc)\n",
    "\n",
    "output = pd.DataFrame({'PassengerId':testing_data.PassengerId,'Survived':Y_prediction})\n",
    "output.to_csv('submission_1738483.csv', index=False)\n",
    "print(\"submission saved\")"
   ]
  },
  {
   "cell_type": "code",
   "execution_count": 26,
   "id": "9f746fb7",
   "metadata": {
    "execution": {
     "iopub.execute_input": "2021-12-08T20:55:35.858849Z",
     "iopub.status.busy": "2021-12-08T20:55:35.858219Z",
     "iopub.status.idle": "2021-12-08T20:55:35.876657Z",
     "shell.execute_reply": "2021-12-08T20:55:35.875939Z",
     "shell.execute_reply.started": "2021-12-08T18:18:26.927177Z"
    },
    "papermill": {
     "duration": 0.05896,
     "end_time": "2021-12-08T20:55:35.876845",
     "exception": false,
     "start_time": "2021-12-08T20:55:35.817885",
     "status": "completed"
    },
    "tags": []
   },
   "outputs": [
    {
     "name": "stdout",
     "output_type": "stream",
     "text": [
      "Accuracy:  80.25\n"
     ]
    }
   ],
   "source": [
    "#implementing logistic regression and calculating accuracy\n",
    "\n",
    "\n",
    "logistic_regression = LogisticRegression()\n",
    "logistic_regression.fit(X_train, Y_train)\n",
    "\n",
    "Y_prediction = logistic_regression.predict(X_test)\n",
    "logistic_accuracy = round(logistic_regression.score(X_train, Y_train)*100,2)\n",
    "print('Accuracy: ',logistic_accuracy)"
   ]
  }
 ],
 "metadata": {
  "kernelspec": {
   "display_name": "Python 3",
   "language": "python",
   "name": "python3"
  },
  "language_info": {
   "codemirror_mode": {
    "name": "ipython",
    "version": 3
   },
   "file_extension": ".py",
   "mimetype": "text/x-python",
   "name": "python",
   "nbconvert_exporter": "python",
   "pygments_lexer": "ipython3",
   "version": "3.7.12"
  },
  "papermill": {
   "default_parameters": {},
   "duration": 15.777957,
   "end_time": "2021-12-08T20:55:36.621962",
   "environment_variables": {},
   "exception": null,
   "input_path": "__notebook__.ipynb",
   "output_path": "__notebook__.ipynb",
   "parameters": {},
   "start_time": "2021-12-08T20:55:20.844005",
   "version": "2.3.3"
  }
 },
 "nbformat": 4,
 "nbformat_minor": 5
}
